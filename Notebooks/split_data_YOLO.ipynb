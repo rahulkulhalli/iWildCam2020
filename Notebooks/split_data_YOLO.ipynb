{
 "cells": [
  {
   "cell_type": "code",
   "execution_count": null,
   "metadata": {
    "_cell_guid": "b1076dfc-b9ad-4769-8c92-a6c4dae69d19",
    "_uuid": "8f2839f25d086af736a60e9eeb907d3b93b6e0e5"
   },
   "outputs": [],
   "source": [
    "import numpy as np\n",
    "import pandas as pd\n",
    "import matplotlib.pyplot as plt\n",
    "%matplotlib inline\n",
    "\n",
    "from PIL import Image\n",
    "import cv2\n",
    "\n",
    "import os\n",
    "import json\n",
    "import math\n",
    "import random"
   ]
  },
  {
   "cell_type": "code",
   "execution_count": null,
   "metadata": {},
   "outputs": [],
   "source": [
    "random.seed(42)\n",
    "np.random.seed(42)"
   ]
  },
  {
   "cell_type": "code",
   "execution_count": null,
   "metadata": {
    "_cell_guid": "79c7e3d0-c299-4dcb-8224-4455121ee9b0",
    "_uuid": "d629ff2d2480ee46fbb7e2d37f6b5fab8052498a"
   },
   "outputs": [],
   "source": [
    "path = os.path.join('..', 'data', 'images')\n",
    "images = os.listdir(path)\n",
    "print(len(images))"
   ]
  },
  {
   "cell_type": "code",
   "execution_count": null,
   "metadata": {},
   "outputs": [],
   "source": [
    "save_path = os.path.join('..', 'data')\n",
    "label_path = os.path.join(save_path, 'labels')\n",
    "if not os.path.exists(label_path):\n",
    "    os.makedirs(label_path)"
   ]
  },
  {
   "cell_type": "code",
   "execution_count": null,
   "metadata": {},
   "outputs": [],
   "source": [
    "p = os.path.join('..', 'data_original', 'iwildcam2020_train_annotations.json')\n",
    "with open(p, 'r') as f:\n",
    "    annot = json.loads(f.read())"
   ]
  },
  {
   "cell_type": "code",
   "execution_count": null,
   "metadata": {},
   "outputs": [],
   "source": [
    "category_map = dict()\n",
    "category_idx_map = dict()\n",
    "categories = annot['categories']\n",
    "for i, category in enumerate(categories):\n",
    "    category_map[category['id']] = {'name': category['name'], 'idx': i}\n",
    "    category_idx_map[int(category['id'])] = i"
   ]
  },
  {
   "cell_type": "code",
   "execution_count": null,
   "metadata": {},
   "outputs": [],
   "source": [
    "# Format the detector results in a more readable way\n",
    "p = os.path.join('..', 'data_original', 'iwildcam2020_megadetector_results.json')\n",
    "with open(p, 'r') as f:\n",
    "    detections = json.loads(f.read())"
   ]
  },
  {
   "cell_type": "code",
   "execution_count": null,
   "metadata": {},
   "outputs": [],
   "source": [
    "write_detections = dict()\n",
    "for i, image in enumerate(detections['images']):\n",
    "    ID = image['id']\n",
    "    _detections = image['detections']\n",
    "    boxes = []\n",
    "    for _detection in _detections:\n",
    "        boxes.append(_detection['bbox'])\n",
    "    write_detections[ID] = boxes"
   ]
  },
  {
   "cell_type": "code",
   "execution_count": null,
   "metadata": {},
   "outputs": [],
   "source": [
    "with open(os.path.join(save_path, 'megadetector_results.json'), 'w') as f:\n",
    "    json.dump(write_detections, f)"
   ]
  },
  {
   "cell_type": "code",
   "execution_count": null,
   "metadata": {},
   "outputs": [],
   "source": [
    "cat_images = dict()\n",
    "cat_count = dict()"
   ]
  },
  {
   "cell_type": "code",
   "execution_count": null,
   "metadata": {},
   "outputs": [],
   "source": [
    "annotations = annot['annotations']\n",
    "_images = annot['images']\n",
    "for i, annotation in enumerate(annotations):\n",
    "    # print(im['id'])\n",
    "    _img = annotation['image_id']\n",
    "    # cat = category_map[annotation['category_id']]['idx']\n",
    "    cat = annotation['category_id']\n",
    "    \n",
    "    # Check if the file is corrupt. If so, don't consider for\n",
    "    # further processing\n",
    "    try:\n",
    "        detections = write_detections[_img]\n",
    "    except KeyError:\n",
    "        continue\n",
    "    \n",
    "    imgs = cat_images.get(cat, None)\n",
    "    if imgs is None:\n",
    "        cat_images[cat] = [{'image_id': _img, 'category': cat}]\n",
    "    else:\n",
    "        cat_images[cat].append({'image_id': _img, 'category': cat})\n",
    "        \n",
    "    count = cat_count.get(cat, 0)\n",
    "    if count == 0:\n",
    "        cat_count[cat] = 1\n",
    "    else:\n",
    "        cat_count[cat] += 1"
   ]
  },
  {
   "cell_type": "code",
   "execution_count": null,
   "metadata": {},
   "outputs": [],
   "source": [
    "n_train = dict()\n",
    "n_val = dict()\n",
    "\n",
    "for cat, count in cat_count.items():\n",
    "    _train = math.floor(count * 0.70)\n",
    "    if _train < 1:\n",
    "        _train = 1\n",
    "    _val = count - _train\n",
    "    n_train[cat] = _train\n",
    "    n_val[cat] = _val"
   ]
  },
  {
   "cell_type": "code",
   "execution_count": null,
   "metadata": {},
   "outputs": [],
   "source": [
    "# make train - test image list\n",
    "train_images = []\n",
    "val_images = []\n",
    "for cat in cat_images.keys():\n",
    "    # Shuffle\n",
    "    random.shuffle(cat_images[cat])\n",
    "    train_images += cat_images[cat][:n_train[cat]]\n",
    "    val_images += cat_images[cat][n_train[cat]:]"
   ]
  },
  {
   "cell_type": "code",
   "execution_count": null,
   "metadata": {},
   "outputs": [],
   "source": [
    "train_image_list = [os.path.join(os.path.abspath(path), '{}.jpg'.format(img['image_id'])) for img in train_images]\n",
    "random.shuffle(train_image_list)\n",
    "val_image_list = [os.path.join(os.path.abspath(path), '{}.jpg'.format(img['image_id'])) for img in val_images]\n",
    "random.shuffle(val_image_list)"
   ]
  },
  {
   "cell_type": "code",
   "execution_count": null,
   "metadata": {},
   "outputs": [],
   "source": [
    "with open(os.path.join(save_path, 'train.txt'), 'w') as f:\n",
    "    f.write('\\n'.join(train_image_list))\n",
    "with open(os.path.join(save_path, 'valid.txt'), 'w') as f:\n",
    "    f.write('\\n'.join(val_image_list))"
   ]
  },
  {
   "cell_type": "code",
   "execution_count": null,
   "metadata": {},
   "outputs": [],
   "source": [
    "train_images_df = pd.DataFrame(train_images)\n",
    "val_images_df = pd.DataFrame(val_images)"
   ]
  },
  {
   "cell_type": "code",
   "execution_count": null,
   "metadata": {},
   "outputs": [],
   "source": [
    "train_images_df.to_csv(os.path.join(save_path, 'train_images.csv'), index=False)\n",
    "val_images_df.to_csv(os.path.join(save_path, 'val_images.csv'), index=False)"
   ]
  },
  {
   "cell_type": "code",
   "execution_count": null,
   "metadata": {},
   "outputs": [],
   "source": [
    "with open(os.path.join(save_path, 'category_idx_map.json'), 'w') as f:\n",
    "    json.dump(category_idx_map, f)"
   ]
  },
  {
   "cell_type": "code",
   "execution_count": null,
   "metadata": {},
   "outputs": [],
   "source": [
    "with open(os.path.join(save_path, 'category_map.json'), 'w') as f:\n",
    "    json.dump(category_map, f)"
   ]
  },
  {
   "cell_type": "code",
   "execution_count": null,
   "metadata": {},
   "outputs": [],
   "source": [
    "# Save class names in YOLO compatible format\n",
    "class_names = ['' for _ in range(len(category_map))]\n",
    "for class_id, content in category_map.items():\n",
    "    category_name = content['name']\n",
    "    idx = content['idx']\n",
    "    class_names[idx] = category_name\n",
    "class_names = '\\n'.join(class_names)\n",
    "with open(os.path.join(save_path, 'iWildCam2020.names'), 'w') as f:\n",
    "    f.write(class_names)"
   ]
  },
  {
   "cell_type": "code",
   "execution_count": null,
   "metadata": {},
   "outputs": [],
   "source": [
    "print(len(train_images_df) + len(val_images_df))"
   ]
  },
  {
   "cell_type": "code",
   "execution_count": null,
   "metadata": {},
   "outputs": [],
   "source": [
    "for image in train_images:\n",
    "    img = image['image_id']\n",
    "    cls = category_idx_map[image['category']]\n",
    "    try:\n",
    "        detections = write_detections[img]\n",
    "    except KeyError:\n",
    "        continue\n",
    "    labels = []\n",
    "    if len(detections) == 0:\n",
    "        detections = [[0., 0., 0., 0.]]\n",
    "    for detection in detections:\n",
    "        x = detection[0]\n",
    "        y = detection[1]\n",
    "        w = detection[2]\n",
    "        h = detection[3]\n",
    "        \n",
    "        x_center = x + w / 2.\n",
    "        y_center = y + h / 2.\n",
    "        labels.append('{} {} {} {} {}'.format(cls, x_center, y_center, w, h))\n",
    "    labels = '\\n'.join(labels)\n",
    "    with open(os.path.join(label_path, '{}.txt'.format(img)), 'w') as f:\n",
    "        f.write(labels)"
   ]
  },
  {
   "cell_type": "code",
   "execution_count": null,
   "metadata": {},
   "outputs": [],
   "source": [
    "for image in val_images:\n",
    "    img = image['image_id']\n",
    "    cls = category_idx_map[image['category']]\n",
    "    try:\n",
    "        detections = write_detections[img]\n",
    "    except KeyError:\n",
    "        continue\n",
    "    labels = []\n",
    "    if len(detections) == 0:\n",
    "        detections = [[0., 0., 0., 0.]]\n",
    "    for detection in detections:\n",
    "        x = detection[0]\n",
    "        y = detection[1]\n",
    "        w = detection[2]\n",
    "        h = detection[3]\n",
    "        \n",
    "        x_center = x + w / 2.\n",
    "        y_center = y + h / 2.\n",
    "        labels.append('{} {} {} {} {}'.format(cls, x_center, y_center, w, h))\n",
    "    labels = '\\n'.join(labels)\n",
    "    with open(os.path.join(label_path, '{}.txt'.format(img)), 'w') as f:\n",
    "        f.write(labels)"
   ]
  },
  {
   "cell_type": "code",
   "execution_count": null,
   "metadata": {},
   "outputs": [],
   "source": [
    "import pickle as pkl\n",
    "import json"
   ]
  },
  {
   "cell_type": "code",
   "execution_count": null,
   "metadata": {},
   "outputs": [],
   "source": [
    "save_path = os.path.join('..', 'data')\n",
    "with open(os.path.join(save_path, 'category_idx_map.json'), 'r') as f:\n",
    "    d = json.loads(f.read())"
   ]
  },
  {
   "cell_type": "code",
   "execution_count": null,
   "metadata": {},
   "outputs": [],
   "source": [
    "len(d.keys())"
   ]
  },
  {
   "cell_type": "code",
   "execution_count": null,
   "metadata": {},
   "outputs": [],
   "source": []
  }
 ],
 "metadata": {
  "kernelspec": {
   "display_name": "Python 3",
   "language": "python",
   "name": "python3"
  },
  "language_info": {
   "codemirror_mode": {
    "name": "ipython",
    "version": 3
   },
   "file_extension": ".py",
   "mimetype": "text/x-python",
   "name": "python",
   "nbconvert_exporter": "python",
   "pygments_lexer": "ipython3",
   "version": "3.6.8"
  }
 },
 "nbformat": 4,
 "nbformat_minor": 4
}
