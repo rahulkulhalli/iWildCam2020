{
 "cells": [
  {
   "cell_type": "code",
   "execution_count": null,
   "metadata": {},
   "outputs": [],
   "source": [
    "import os\n",
    "os.environ['CUDA_VISIBLE_DEVICES'] = '2'\n",
    "# os.environ['CUDA_LAUNCH_BLOCKING'] = '1'\n",
    "import sys\n",
    "sys.path.append('../YOLOv3')"
   ]
  },
  {
   "cell_type": "code",
   "execution_count": null,
   "metadata": {},
   "outputs": [],
   "source": [
    "from models import *\n",
    "from utils.logger import *\n",
    "from utils.utils import *\n",
    "from utils.datasets import *\n",
    "from utils.parse_config import *\n",
    "from val import evaluate"
   ]
  },
  {
   "cell_type": "code",
   "execution_count": null,
   "metadata": {},
   "outputs": [],
   "source": [
    "from terminaltables import AsciiTable"
   ]
  },
  {
   "cell_type": "code",
   "execution_count": null,
   "metadata": {},
   "outputs": [],
   "source": [
    "import os\n",
    "import sys\n",
    "import time\n",
    "import datetime\n",
    "import argparse"
   ]
  },
  {
   "cell_type": "code",
   "execution_count": null,
   "metadata": {},
   "outputs": [],
   "source": [
    "import torch\n",
    "from torch.utils.data import DataLoader\n",
    "from torchvision import datasets\n",
    "from torchvision import transforms\n",
    "from torch.autograd import Variable\n",
    "import torch.optim as optim"
   ]
  },
  {
   "cell_type": "code",
   "execution_count": null,
   "metadata": {},
   "outputs": [],
   "source": [
    "class Config:\n",
    "    \n",
    "    def __init__(self):\n",
    "        self.epochs = 5\n",
    "        self.batch_size = 7\n",
    "        self.gradient_accumulations = 2\n",
    "        self.model_def = '<base_path>/iWildCam2020/YOLOv3/config/yolov3.cfg'\n",
    "        self.data_config = \"<base_path>/YOLOv3/config/iWildCam.data\"\n",
    "        self.pretrained_weights = '<path_to_pretrained_models>'\n",
    "        self.n_cpu = 2\n",
    "        self.img_size = 512\n",
    "        self.checkpoint_interval = 1\n",
    "        self.evaluation_interval = 1\n",
    "        self.compute_map = False\n",
    "        self.multiscale_training = True\n",
    "        self.lr = 1e-5\n",
    "        \n",
    "        self.log_dir = '<base_path>/iWildCam2020/YOLOv3/logs'\n",
    "        self.output =  '<base_path>/iWildCam2020/YOLOv3/output'\n",
    "        self.checkpoints =  '<base_path>/iWildCam2020/YOLOv3/checkpoints'\n",
    "        \n",
    "        self.device = 'cuda:0'\n",
    "        self.multigpu = False\n",
    "        \n",
    "opt = Config()"
   ]
  },
  {
   "cell_type": "code",
   "execution_count": null,
   "metadata": {},
   "outputs": [],
   "source": [
    "logger = Logger(opt.log_dir)"
   ]
  },
  {
   "cell_type": "code",
   "execution_count": null,
   "metadata": {},
   "outputs": [],
   "source": [
    "os.makedirs(opt.output, exist_ok=True)\n",
    "os.makedirs(opt.checkpoints, exist_ok=True)"
   ]
  },
  {
   "cell_type": "code",
   "execution_count": null,
   "metadata": {},
   "outputs": [],
   "source": [
    "# Get data configuration\n",
    "data_config = parse_data_config(opt.data_config)\n",
    "train_path = data_config[\"train\"]\n",
    "valid_path = data_config[\"valid\"]\n",
    "class_names = load_classes(data_config[\"names\"])"
   ]
  },
  {
   "cell_type": "code",
   "execution_count": null,
   "metadata": {},
   "outputs": [],
   "source": [
    "# Initiate model\n",
    "model = Darknet(opt.model_def)\n",
    "model.apply(weights_init_normal)\n",
    "# If specified we start from checkpoint\n",
    "if opt.pretrained_weights:\n",
    "    if opt.pretrained_weights.endswith(\".pth\"):\n",
    "        model.load_state_dict(torch.load(opt.pretrained_weights))\n",
    "    else:\n",
    "        model.load_darknet_weights(opt.pretrained_weights)\n",
    "if opt.multigpu:\n",
    "    model = nn.DataParallel(model)\n",
    "model = model.to(opt.device)"
   ]
  },
  {
   "cell_type": "code",
   "execution_count": null,
   "metadata": {},
   "outputs": [],
   "source": [
    "# Get dataloader\n",
    "dataset = ListDataset(train_path, augment=True, multiscale=opt.multiscale_training)\n",
    "dataloader = torch.utils.data.DataLoader(\n",
    "    dataset,\n",
    "    batch_size=opt.batch_size,\n",
    "    shuffle=True,\n",
    "    num_workers=opt.n_cpu,\n",
    "    pin_memory=True,\n",
    "    collate_fn=dataset.collate_fn,\n",
    ")"
   ]
  },
  {
   "cell_type": "code",
   "execution_count": null,
   "metadata": {},
   "outputs": [],
   "source": [
    "optimizer = torch.optim.Adam(model.parameters(), lr=opt.lr)"
   ]
  },
  {
   "cell_type": "code",
   "execution_count": null,
   "metadata": {},
   "outputs": [],
   "source": [
    "metrics = [\n",
    "    \"grid_size\",\n",
    "    \"loss\",\n",
    "    \"x\",\n",
    "    \"y\",\n",
    "    \"w\",\n",
    "    \"h\",\n",
    "    \"conf\",\n",
    "    \"cls\",\n",
    "    \"cls_acc\",\n",
    "    \"recall50\",\n",
    "    \"recall75\",\n",
    "    \"precision\",\n",
    "    \"conf_obj\",\n",
    "    \"conf_noobj\",\n",
    "    \"classification_loss\",\n",
    "    \"batch_acc\"\n",
    "]"
   ]
  },
  {
   "cell_type": "code",
   "execution_count": null,
   "metadata": {
    "scrolled": true
   },
   "outputs": [],
   "source": [
    "for epoch in range(4, opt.epochs):\n",
    "    model.train()\n",
    "    start_time = time.time()\n",
    "    for batch_i, (_, imgs, targets, cls) in enumerate(dataloader):\n",
    "        batches_done = len(dataloader) * epoch + batch_i\n",
    "\n",
    "        imgs = Variable(imgs.to(opt.device))\n",
    "        targets = Variable(targets.to(opt.device), requires_grad=False)\n",
    "        cls = Variable(cls.to(opt.device), requires_grad=False)\n",
    "\n",
    "        loss, outputs, class_scores = model(imgs, targets, cls)\n",
    "        loss.backward()\n",
    "\n",
    "        if batches_done % opt.gradient_accumulations:\n",
    "            # Accumulates gradient before each step\n",
    "            optimizer.step()\n",
    "            optimizer.zero_grad()\n",
    "\n",
    "        # ----------------\n",
    "        #   Log progress\n",
    "        # ----------------\n",
    "\n",
    "        log_str = \"\\n---- [Epoch %d/%d, Batch %d/%d] ----\\n\" % (epoch, opt.epochs, batch_i, len(dataloader))\n",
    "\n",
    "        metric_table = [[\"Metrics\", *[f\"YOLO Layer {i}\" for i in range(len(model.yolo_layers))]]]\n",
    "\n",
    "        # Log metrics at each YOLO layer\n",
    "        for i, metric in enumerate(metrics):\n",
    "            formats = {m: \"%.6f\" for m in metrics}\n",
    "            formats[\"grid_size\"] = \"%2d\"\n",
    "            formats[\"cls_acc\"] = \"%.2f%%\"\n",
    "            row_metrics = [formats[metric] % yolo.metrics.get(metric, 0) for yolo in model.yolo_layers]\n",
    "            metric_table += [[metric, *row_metrics]]\n",
    "\n",
    "            # Tensorboard logging\n",
    "            tensorboard_log = []\n",
    "            for j, yolo in enumerate(model.yolo_layers):\n",
    "                for name, metric in yolo.metrics.items():\n",
    "                    if name != \"grid_size\":\n",
    "                        tensorboard_log += [(f\"{name}_{j+1}\", metric)]\n",
    "            tensorboard_log += [(\"loss\", loss.item())]\n",
    "            logger.list_of_scalars_summary(tensorboard_log, batches_done)\n",
    "\n",
    "        log_str += AsciiTable(metric_table).table\n",
    "        log_str += f\"\\nTotal loss {loss.item()}\"\n",
    "\n",
    "        # Determine approximate time left for epoch\n",
    "        epoch_batches_left = len(dataloader) - (batch_i + 1)\n",
    "        time_left = datetime.timedelta(seconds=epoch_batches_left * (time.time() - start_time) / (batch_i + 1))\n",
    "        log_str += f\"\\n---- ETA {time_left}\"\n",
    "    \n",
    "        if batches_done % 50 == 0:\n",
    "            print(log_str)\n",
    "\n",
    "        model.seen += imgs.size(0)\n",
    "    if epoch % opt.evaluation_interval == 0:\n",
    "        print(\"\\n---- Evaluating Model ----\")\n",
    "        # Evaluate the model on the validation set\n",
    "        precision, recall, AP, f1, ap_class, acc = evaluate(\n",
    "            model,\n",
    "            path=valid_path,\n",
    "            iou_thres=0.5,\n",
    "            conf_thres=0.5,\n",
    "            nms_thres=0.5,\n",
    "            img_size=opt.img_size,\n",
    "            batch_size=8,\n",
    "        )\n",
    "        evaluation_metrics = [\n",
    "            (\"val_precision\", precision.mean()),\n",
    "            (\"val_recall\", recall.mean()),\n",
    "            (\"val_mAP\", AP.mean()),\n",
    "            (\"val_f1\", f1.mean()),\n",
    "            (\"val_acc\", acc)\n",
    "        ]\n",
    "        logger.list_of_scalars_summary(evaluation_metrics, epoch)\n",
    "\n",
    "        # Print class APs and mAP\n",
    "        ap_table = [[\"Index\", \"Class name\", \"AP\"]]\n",
    "        for i, c in enumerate(ap_class):\n",
    "            ap_table += [[c, class_names[c], \"%.5f\" % AP[i]]]\n",
    "        print(AsciiTable(ap_table).table)\n",
    "        print(f\"---- mAP {AP.mean()}\")\n",
    "        print(f\"---- Val Accuracy {acc}\")\n",
    "\n",
    "    if epoch % opt.checkpoint_interval == 0:\n",
    "        torch.save(model.state_dict(), f\"../YOLOv3/checkpoints/yolov3_ckpt_%d.pth\" % epoch)\n",
    "    \n",
    "    logger.write_log(epoch)"
   ]
  },
  {
   "cell_type": "code",
   "execution_count": null,
   "metadata": {},
   "outputs": [],
   "source": [
    "# torch.save(model.state_dict(), f\"../YOLOv3/checkpoints/yolov3_ckpt_%d.pth\" % epoch)"
   ]
  },
  {
   "cell_type": "code",
   "execution_count": null,
   "metadata": {},
   "outputs": [],
   "source": [
    "# logger.write_log(epoch)"
   ]
  },
  {
   "cell_type": "code",
   "execution_count": null,
   "metadata": {},
   "outputs": [],
   "source": []
  }
 ],
 "metadata": {
  "kernelspec": {
   "display_name": "Python 3",
   "language": "python",
   "name": "python3"
  },
  "language_info": {
   "codemirror_mode": {
    "name": "ipython",
    "version": 3
   },
   "file_extension": ".py",
   "mimetype": "text/x-python",
   "name": "python",
   "nbconvert_exporter": "python",
   "pygments_lexer": "ipython3",
   "version": "3.6.8"
  }
 },
 "nbformat": 4,
 "nbformat_minor": 2
}
