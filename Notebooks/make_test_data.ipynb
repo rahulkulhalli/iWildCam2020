{
 "cells": [
  {
   "cell_type": "code",
   "execution_count": null,
   "metadata": {},
   "outputs": [],
   "source": [
    "import os\n",
    "import json"
   ]
  },
  {
   "cell_type": "code",
   "execution_count": null,
   "metadata": {},
   "outputs": [],
   "source": [
    "root = '<base_path>/iWildCam2020/data/test_data'"
   ]
  },
  {
   "cell_type": "code",
   "execution_count": null,
   "metadata": {},
   "outputs": [],
   "source": [
    "p = os.path.join('..', 'data_original', 'iwildcam2020_megadetector_results.json')\n",
    "with open(p, 'r') as f:\n",
    "    detections = json.loads(f.read())"
   ]
  },
  {
   "cell_type": "code",
   "execution_count": null,
   "metadata": {},
   "outputs": [],
   "source": [
    "write_detections = dict()\n",
    "for i, image in enumerate(detections['images']):\n",
    "    ID = image['id']\n",
    "    _detections = image['detections']\n",
    "    boxes = []\n",
    "    for _detection in _detections:\n",
    "        boxes.append(_detection['bbox'])\n",
    "    write_detections[ID] = boxes"
   ]
  },
  {
   "cell_type": "code",
   "execution_count": null,
   "metadata": {},
   "outputs": [],
   "source": [
    "img_path = os.path.join(root, 'images')\n",
    "label_path = os.path.join(root, 'labels')"
   ]
  },
  {
   "cell_type": "code",
   "execution_count": null,
   "metadata": {
    "scrolled": true
   },
   "outputs": [],
   "source": [
    "images = []\n",
    "_images = os.listdir(img_path)\n",
    "for i, img in enumerate(_images):\n",
    "    try:\n",
    "        det = write_detections[img.split('.')[0]]\n",
    "    except:\n",
    "        print('Error: {}'.format(img))\n",
    "        continue\n",
    "    images.append(img)\n",
    "    if i % 2000 == 0:\n",
    "        print('{} / {} done.'.format(i, len(_images)))\n",
    "print(len(images))"
   ]
  },
  {
   "cell_type": "code",
   "execution_count": null,
   "metadata": {},
   "outputs": [],
   "source": [
    "for image in images:\n",
    "    im_id = image.split('.')[0]\n",
    "    label_file = im_id + '.txt'\n",
    "    content = '{} {} {} {} {}'.format(0.0, 1.0, 1.0, 1.0, 1.0)\n",
    "    with open(os.path.join(label_path, label_file), 'w') as f:\n",
    "        f.write(content)"
   ]
  },
  {
   "cell_type": "code",
   "execution_count": null,
   "metadata": {},
   "outputs": [],
   "source": [
    "len(os.listdir(label_path))"
   ]
  },
  {
   "cell_type": "code",
   "execution_count": null,
   "metadata": {},
   "outputs": [],
   "source": [
    "images = [os.path.join(img_path, img) for img in images]\n",
    "images_to_write = '\\n'.join(images)"
   ]
  },
  {
   "cell_type": "code",
   "execution_count": null,
   "metadata": {},
   "outputs": [],
   "source": [
    "with open(os.path.join(root, 'test.txt'), 'w') as f:\n",
    "    f.write(images_to_write)"
   ]
  },
  {
   "cell_type": "code",
   "execution_count": null,
   "metadata": {},
   "outputs": [],
   "source": []
  }
 ],
 "metadata": {
  "kernelspec": {
   "display_name": "Python 3",
   "language": "python",
   "name": "python3"
  },
  "language_info": {
   "codemirror_mode": {
    "name": "ipython",
    "version": 3
   },
   "file_extension": ".py",
   "mimetype": "text/x-python",
   "name": "python",
   "nbconvert_exporter": "python",
   "pygments_lexer": "ipython3",
   "version": "3.6.8"
  }
 },
 "nbformat": 4,
 "nbformat_minor": 2
}
