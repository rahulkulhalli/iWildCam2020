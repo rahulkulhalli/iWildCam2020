{
 "cells": [
  {
   "cell_type": "code",
   "execution_count": null,
   "metadata": {},
   "outputs": [],
   "source": [
    "import os\n",
    "os.environ['CUDA_VISIBLE_DEVICES'] = '1'\n",
    "# os.environ['CUDA_LAUNCH_BLOCKING'] = '1'\n",
    "import sys\n",
    "sys.path.append('../YOLOv3')"
   ]
  },
  {
   "cell_type": "code",
   "execution_count": null,
   "metadata": {},
   "outputs": [],
   "source": [
    "from models import *\n",
    "from utils.logger import *\n",
    "from utils.utils import *\n",
    "from utils.datasets_copy import *\n",
    "from utils.parse_config import *\n",
    "from val import evaluate\n",
    "import tqdm"
   ]
  },
  {
   "cell_type": "code",
   "execution_count": null,
   "metadata": {},
   "outputs": [],
   "source": [
    "from terminaltables import AsciiTable"
   ]
  },
  {
   "cell_type": "code",
   "execution_count": null,
   "metadata": {},
   "outputs": [],
   "source": [
    "import os\n",
    "import sys\n",
    "import time\n",
    "import datetime\n",
    "import argparse\n",
    "import json"
   ]
  },
  {
   "cell_type": "code",
   "execution_count": null,
   "metadata": {},
   "outputs": [],
   "source": [
    "import torch\n",
    "from torch.utils.data import DataLoader\n",
    "from torchvision import datasets\n",
    "from torchvision import transforms\n",
    "from torch.autograd import Variable\n",
    "import torch.optim as optim\n",
    "import numpy as np\n",
    "import pandas as pd"
   ]
  },
  {
   "cell_type": "code",
   "execution_count": null,
   "metadata": {},
   "outputs": [],
   "source": [
    "class Config:\n",
    "    \n",
    "    def __init__(self):\n",
    "        self.epochs = 4\n",
    "        self.batch_size = 8\n",
    "        self.gradient_accumulations = 2\n",
    "        self.model_def = '<base_path>/iWildCam2020/YOLOv3/config/yolov3.cfg'\n",
    "        self.data_config = \"<base_path>/iWildCam2020/YOLOv3/config/iWildCam_test.data\"\n",
    "        self.pretrained_weights = 'path_to_checkpoint.pth'\n",
    "        self.n_cpu = 2\n",
    "        self.img_size = 512\n",
    "        self.checkpoint_interval = 1\n",
    "        self.evaluation_interval = 1\n",
    "        self.compute_map = False\n",
    "        self.multiscale_training = False\n",
    "        self.lr = 1e-4\n",
    "        \n",
    "        self.log_dir = '<base_path>/iWildCam2020/YOLOv3/logs'\n",
    "        self.output =  '<base_path>/iWildCam2020/YOLOv3/output'\n",
    "        self.checkpoints =  '<base_path>/iWildCam2020/YOLOv3/checkpoints'\n",
    "        \n",
    "        self.device = 'cuda:0'\n",
    "        self.multigpu = False\n",
    "        \n",
    "opt = Config()"
   ]
  },
  {
   "cell_type": "code",
   "execution_count": null,
   "metadata": {},
   "outputs": [],
   "source": [
    "logger = Logger(opt.log_dir)"
   ]
  },
  {
   "cell_type": "code",
   "execution_count": null,
   "metadata": {},
   "outputs": [],
   "source": [
    "os.makedirs(opt.output, exist_ok=True)\n",
    "os.makedirs(opt.checkpoints, exist_ok=True)"
   ]
  },
  {
   "cell_type": "code",
   "execution_count": null,
   "metadata": {},
   "outputs": [],
   "source": [
    "# Get data configuration\n",
    "data_config = parse_data_config(opt.data_config)\n",
    "train_path = data_config[\"train\"]\n",
    "valid_path = data_config[\"valid\"]\n",
    "class_names = load_classes(data_config[\"names\"])"
   ]
  },
  {
   "cell_type": "code",
   "execution_count": null,
   "metadata": {},
   "outputs": [],
   "source": [
    "# Initiate model\n",
    "model = Darknet(opt.model_def)\n",
    "model.apply(weights_init_normal)\n",
    "# If specified we start from checkpoint\n",
    "if opt.pretrained_weights:\n",
    "    if opt.pretrained_weights.endswith(\".pth\"):\n",
    "        model.load_state_dict(torch.load(opt.pretrained_weights))\n",
    "    else:\n",
    "        model.load_darknet_weights(opt.pretrained_weights)\n",
    "if opt.multigpu:\n",
    "    model = nn.DataParallel(model)\n",
    "model = model.to(opt.device)\n",
    "model = model.eval()"
   ]
  },
  {
   "cell_type": "code",
   "execution_count": null,
   "metadata": {},
   "outputs": [],
   "source": [
    "# Get dataloader\n",
    "dataset = ListDataset(valid_path, augment=False, multiscale=opt.multiscale_training, mode='test')\n",
    "dataloader = torch.utils.data.DataLoader(\n",
    "    dataset,\n",
    "    batch_size=opt.batch_size,\n",
    "    shuffle=False,\n",
    "    num_workers=opt.n_cpu,\n",
    "    pin_memory=True,\n",
    "    collate_fn=dataset.collate_fn,\n",
    ")"
   ]
  },
  {
   "cell_type": "code",
   "execution_count": null,
   "metadata": {},
   "outputs": [],
   "source": [
    "root = '<base_path>/iWildCam2020/data/'\n",
    "class_idx_path = os.path.join(root, 'category_idx_map.json')\n",
    "with open(class_idx_path, 'r') as f:\n",
    "    class_idx_map = json.loads(f.read())\n",
    "idx_class_map = {int(v): int(k) for k, v in class_idx_map.items()}"
   ]
  },
  {
   "cell_type": "code",
   "execution_count": null,
   "metadata": {},
   "outputs": [],
   "source": [
    "predicted_classes = []\n",
    "images = []"
   ]
  },
  {
   "cell_type": "code",
   "execution_count": null,
   "metadata": {
    "scrolled": true
   },
   "outputs": [],
   "source": [
    "start = time.time()\n",
    "for batch_i, (paths, imgs, targets, cls, is_empty) in enumerate(tqdm.tqdm(dataloader, desc='Testing')):\n",
    "    with torch.no_grad():\n",
    "        batches_done = batch_i\n",
    "\n",
    "        imgs = Variable(imgs.to(opt.device))\n",
    "        targets = Variable(targets.to(opt.device), requires_grad=False)\n",
    "        cls = Variable(cls.to(opt.device), requires_grad=False)\n",
    "\n",
    "        outputs, class_scores = model(imgs)\n",
    "        pred_class = torch.argmax(class_scores, dim=1).numpy().tolist()\n",
    "        predicted_classes += [m for m in map(lambda x: idx_class_map[x], pred_class)]\n",
    "        images += [path.split(os.path.sep)[-1].split('.')[0] for path in paths]\n",
    "\n",
    "end = time.time()\n",
    "print('Time Required: {}'.format(end - start))"
   ]
  },
  {
   "cell_type": "code",
   "execution_count": null,
   "metadata": {},
   "outputs": [],
   "source": [
    "df = pd.DataFrame({'Id': images, 'Category': predicted_classes})"
   ]
  },
  {
   "cell_type": "code",
   "execution_count": null,
   "metadata": {},
   "outputs": [],
   "source": [
    "df.to_csv(os.path.join(root, 'test_data', 'test_predictions_cpt4.csv'), index=None)"
   ]
  },
  {
   "cell_type": "code",
   "execution_count": null,
   "metadata": {},
   "outputs": [],
   "source": [
    "df.shape"
   ]
  },
  {
   "cell_type": "code",
   "execution_count": null,
   "metadata": {},
   "outputs": [],
   "source": []
  }
 ],
 "metadata": {
  "kernelspec": {
   "display_name": "Python 3",
   "language": "python",
   "name": "python3"
  },
  "language_info": {
   "codemirror_mode": {
    "name": "ipython",
    "version": 3
   },
   "file_extension": ".py",
   "mimetype": "text/x-python",
   "name": "python",
   "nbconvert_exporter": "python",
   "pygments_lexer": "ipython3",
   "version": "3.6.8"
  }
 },
 "nbformat": 4,
 "nbformat_minor": 2
}
